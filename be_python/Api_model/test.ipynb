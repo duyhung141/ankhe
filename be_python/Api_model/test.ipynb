{
 "cells": [
  {
   "cell_type": "code",
   "execution_count": 1,
   "metadata": {},
   "outputs": [],
   "source": [
    "import pandas as pd\n",
    "test = pd.DataFrame()\n",
    "test['Tổng lưu lượng xả (m³/s)[Thực tế] - t'] =[11]\n",
    "test['SoMua'] =[1]\n",
    "test['Lưu lượng đến hồ (m³/s) - t'] =[22.2]"
   ]
  },
  {
   "cell_type": "code",
   "execution_count": 2,
   "metadata": {},
   "outputs": [
    {
     "data": {
      "text/html": [
       "<div>\n",
       "<style scoped>\n",
       "    .dataframe tbody tr th:only-of-type {\n",
       "        vertical-align: middle;\n",
       "    }\n",
       "\n",
       "    .dataframe tbody tr th {\n",
       "        vertical-align: top;\n",
       "    }\n",
       "\n",
       "    .dataframe thead th {\n",
       "        text-align: right;\n",
       "    }\n",
       "</style>\n",
       "<table border=\"1\" class=\"dataframe\">\n",
       "  <thead>\n",
       "    <tr style=\"text-align: right;\">\n",
       "      <th></th>\n",
       "      <th>Tổng lưu lượng xả (m³/s)[Thực tế] - t</th>\n",
       "      <th>SoMua</th>\n",
       "      <th>Lưu lượng đến hồ (m³/s) - t</th>\n",
       "    </tr>\n",
       "  </thead>\n",
       "  <tbody>\n",
       "    <tr>\n",
       "      <th>0</th>\n",
       "      <td>11</td>\n",
       "      <td>1</td>\n",
       "      <td>22.2</td>\n",
       "    </tr>\n",
       "  </tbody>\n",
       "</table>\n",
       "</div>"
      ],
      "text/plain": [
       "   Tổng lưu lượng xả (m³/s)[Thực tế] - t  SoMua  Lưu lượng đến hồ (m³/s) - t\n",
       "0                                     11      1                         22.2"
      ]
     },
     "execution_count": 2,
     "metadata": {},
     "output_type": "execute_result"
    }
   ],
   "source": [
    "test"
   ]
  },
  {
   "cell_type": "code",
   "execution_count": 3,
   "metadata": {},
   "outputs": [],
   "source": [
    "test.to_csv('demo.csv', index = False)"
   ]
  },
  {
   "cell_type": "code",
   "execution_count": 1,
   "metadata": {},
   "outputs": [],
   "source": [
    "import joblib\n",
    "# Load mô hình RandomForest\n",
    "loaded_rf_model = joblib.load('best_model/best_rf_model_t_2.pkl')"
   ]
  },
  {
   "cell_type": "code",
   "execution_count": 2,
   "metadata": {},
   "outputs": [
    {
     "data": {
      "text/plain": [
       "RandomForestRegressor(max_depth=8, min_samples_split=10, n_estimators=88,\n",
       "                      random_state=42)"
      ]
     },
     "execution_count": 2,
     "metadata": {},
     "output_type": "execute_result"
    }
   ],
   "source": [
    "loaded_rf_model"
   ]
  },
  {
   "cell_type": "code",
   "execution_count": 2,
   "metadata": {},
   "outputs": [
    {
     "name": "stdout",
     "output_type": "stream",
     "text": [
      "input: \n",
      "\n",
      "   Tổng lưu lượng xả (m³/s)[Thực tế] - t  SoMua  Lưu lượng đến hồ (m³/s) - t\n",
      "0                                   22.0    2.2                        25.72\n",
      "Lưu lượng đến hồ 2 giờ sau (t + 2):  [25.04107302]\n"
     ]
    }
   ],
   "source": [
    "import pandas as pd\n",
    "test = pd.DataFrame()\n",
    "x1 = float(input(\"Nhập tổng lưu lượng xả tại thời điểm t: \"))\n",
    "x2 = float(input(\"Mưa tại thời điểm t: \"))\n",
    "x3 = float(input(\"Nhập lưu lượng nước tại thời điểm t: \"))\n",
    "test['Tổng lưu lượng xả (m³/s)[Thực tế] - t'] = [x1]\n",
    "test['SoMua'] = [x2]\n",
    "test['Lưu lượng đến hồ (m³/s) - t'] = [x3]\n",
    "print(\"input: \\n\")\n",
    "print(test)\n",
    "print(\"Lưu lượng đến hồ 2 giờ sau (t + 2): \", loaded_rf_model.predict(test))"
   ]
  },
  {
   "cell_type": "code",
   "execution_count": 1,
   "metadata": {},
   "outputs": [],
   "source": [
    "import joblib\n",
    "# Load mô hình RandomForest\n",
    "loaded_rf_model_t4 = joblib.load('best_model/best_rf_model_t_4.pkl')"
   ]
  },
  {
   "cell_type": "code",
   "execution_count": null,
   "metadata": {},
   "outputs": [],
   "source": [
    "# 28.2\t0.0\t32.46\t29.31"
   ]
  },
  {
   "cell_type": "code",
   "execution_count": 2,
   "metadata": {},
   "outputs": [
    {
     "name": "stdout",
     "output_type": "stream",
     "text": [
      "input: \n",
      "\n",
      "   Tổng lưu lượng xả (m³/s)[Thực tế] - t  SoMua  Lưu lượng đến hồ (m³/s) - t\n",
      "0                                   28.2    0.0                        32.46\n",
      "Lưu lượng đến hồ 2 giờ sau (t + 4):  [31.27011377]\n"
     ]
    }
   ],
   "source": [
    "import pandas as pd\n",
    "test = pd.DataFrame()\n",
    "x1 = float(input(\"Nhập tổng lưu lượng xả tại thời điểm t: \"))\n",
    "x2 = float(input(\"Mưa tại thời điểm t: \"))\n",
    "x3 = float(input(\"Nhập lưu lượng nước tại thời điểm t: \"))\n",
    "test['Tổng lưu lượng xả (m³/s)[Thực tế] - t'] = [x1]\n",
    "test['SoMua'] = [x2]\n",
    "test['Lưu lượng đến hồ (m³/s) - t'] = [x3]\n",
    "print(\"input: \\n\")\n",
    "print(test)\n",
    "print(\"Lưu lượng đến hồ 2 giờ sau (t + 4): \", loaded_rf_model_t4.predict(test))"
   ]
  },
  {
   "cell_type": "markdown",
   "metadata": {},
   "source": [
    "## TEST EXCEL"
   ]
  },
  {
   "cell_type": "code",
   "execution_count": 1,
   "metadata": {},
   "outputs": [
    {
     "data": {
      "text/html": [
       "<div>\n",
       "<style scoped>\n",
       "    .dataframe tbody tr th:only-of-type {\n",
       "        vertical-align: middle;\n",
       "    }\n",
       "\n",
       "    .dataframe tbody tr th {\n",
       "        vertical-align: top;\n",
       "    }\n",
       "\n",
       "    .dataframe thead th {\n",
       "        text-align: right;\n",
       "    }\n",
       "</style>\n",
       "<table border=\"1\" class=\"dataframe\">\n",
       "  <thead>\n",
       "    <tr style=\"text-align: right;\">\n",
       "      <th></th>\n",
       "      <th>Tổng lưu lượng xả (m³/s)[Thực tế]-t</th>\n",
       "      <th>SoLieuMua</th>\n",
       "      <th>Lưu lượng đến hồ (m³/s)-t</th>\n",
       "    </tr>\n",
       "  </thead>\n",
       "  <tbody>\n",
       "    <tr>\n",
       "      <th>0</th>\n",
       "      <td>19.0</td>\n",
       "      <td>0.000000</td>\n",
       "      <td>32.35</td>\n",
       "    </tr>\n",
       "    <tr>\n",
       "      <th>1</th>\n",
       "      <td>28.0</td>\n",
       "      <td>0.000000</td>\n",
       "      <td>54.06</td>\n",
       "    </tr>\n",
       "    <tr>\n",
       "      <th>2</th>\n",
       "      <td>30.6</td>\n",
       "      <td>0.000000</td>\n",
       "      <td>55.63</td>\n",
       "    </tr>\n",
       "    <tr>\n",
       "      <th>3</th>\n",
       "      <td>17.5</td>\n",
       "      <td>0.240000</td>\n",
       "      <td>38.33</td>\n",
       "    </tr>\n",
       "    <tr>\n",
       "      <th>4</th>\n",
       "      <td>28.0</td>\n",
       "      <td>0.000000</td>\n",
       "      <td>53.62</td>\n",
       "    </tr>\n",
       "    <tr>\n",
       "      <th>5</th>\n",
       "      <td>8.0</td>\n",
       "      <td>0.000000</td>\n",
       "      <td>8.78</td>\n",
       "    </tr>\n",
       "    <tr>\n",
       "      <th>6</th>\n",
       "      <td>30.0</td>\n",
       "      <td>41.400001</td>\n",
       "      <td>35.23</td>\n",
       "    </tr>\n",
       "    <tr>\n",
       "      <th>7</th>\n",
       "      <td>29.0</td>\n",
       "      <td>1.090000</td>\n",
       "      <td>74.23</td>\n",
       "    </tr>\n",
       "    <tr>\n",
       "      <th>8</th>\n",
       "      <td>0.0</td>\n",
       "      <td>0.000000</td>\n",
       "      <td>1.47</td>\n",
       "    </tr>\n",
       "    <tr>\n",
       "      <th>9</th>\n",
       "      <td>0.0</td>\n",
       "      <td>0.000000</td>\n",
       "      <td>1.49</td>\n",
       "    </tr>\n",
       "  </tbody>\n",
       "</table>\n",
       "</div>"
      ],
      "text/plain": [
       "   Tổng lưu lượng xả (m³/s)[Thực tế]-t  SoLieuMua  Lưu lượng đến hồ (m³/s)-t\n",
       "0                                 19.0   0.000000                      32.35\n",
       "1                                 28.0   0.000000                      54.06\n",
       "2                                 30.6   0.000000                      55.63\n",
       "3                                 17.5   0.240000                      38.33\n",
       "4                                 28.0   0.000000                      53.62\n",
       "5                                  8.0   0.000000                       8.78\n",
       "6                                 30.0  41.400001                      35.23\n",
       "7                                 29.0   1.090000                      74.23\n",
       "8                                  0.0   0.000000                       1.47\n",
       "9                                  0.0   0.000000                       1.49"
      ]
     },
     "execution_count": 1,
     "metadata": {},
     "output_type": "execute_result"
    }
   ],
   "source": [
    "import pandas as pd\n",
    "df = pd.read_excel('demo.xlsx')\n",
    "df"
   ]
  },
  {
   "cell_type": "code",
   "execution_count": 3,
   "metadata": {},
   "outputs": [],
   "source": [
    "import joblib\n",
    "# Load mô hình RandomForest\n",
    "loaded_rf_model_t2 = joblib.load('best_model/best_rf_model_t_2.pkl')"
   ]
  },
  {
   "cell_type": "code",
   "execution_count": 4,
   "metadata": {},
   "outputs": [],
   "source": [
    "y_pred_t2 = loaded_rf_model_t2.predict(df)"
   ]
  },
  {
   "cell_type": "markdown",
   "metadata": {},
   "source": [
    "Giá trị lưu lượng nước đến hồ chứa An Khê thực tế ở 2h sau:\n",
    "- 32.91\n",
    "- 53.75\n",
    "- 55.47\n",
    "- 20.87\n",
    "- 53.25\n",
    "- 7.83\n",
    "- 31.15\n",
    "- 72.68\n",
    "- 1.53\n",
    "- 1.55"
   ]
  },
  {
   "cell_type": "markdown",
   "metadata": {},
   "source": [
    "Giá trị dự báo 2h sau\n"
   ]
  },
  {
   "cell_type": "code",
   "execution_count": 5,
   "metadata": {},
   "outputs": [
    {
     "data": {
      "text/plain": [
       "array([31.37423955, 52.54653767, 53.0224127 , 37.04422639, 52.50124708,\n",
       "        9.10920687, 33.33648216, 74.89356115,  1.62405253,  1.62933359])"
      ]
     },
     "execution_count": 5,
     "metadata": {},
     "output_type": "execute_result"
    }
   ],
   "source": [
    "y_pred_t2"
   ]
  },
  {
   "cell_type": "markdown",
   "metadata": {},
   "source": [
    "## TEST CSV\n"
   ]
  },
  {
   "cell_type": "code",
   "execution_count": 1,
   "metadata": {},
   "outputs": [
    {
     "data": {
      "text/html": [
       "<div>\n",
       "<style scoped>\n",
       "    .dataframe tbody tr th:only-of-type {\n",
       "        vertical-align: middle;\n",
       "    }\n",
       "\n",
       "    .dataframe tbody tr th {\n",
       "        vertical-align: top;\n",
       "    }\n",
       "\n",
       "    .dataframe thead th {\n",
       "        text-align: right;\n",
       "    }\n",
       "</style>\n",
       "<table border=\"1\" class=\"dataframe\">\n",
       "  <thead>\n",
       "    <tr style=\"text-align: right;\">\n",
       "      <th></th>\n",
       "      <th>Tổng lưu lượng xả (m³/s)[Thực tế] - t</th>\n",
       "      <th>SoLieuMua</th>\n",
       "      <th>Lưu lượng đến hồ (m³/s) - t</th>\n",
       "    </tr>\n",
       "  </thead>\n",
       "  <tbody>\n",
       "    <tr>\n",
       "      <th>0</th>\n",
       "      <td>11.0</td>\n",
       "      <td>1.000000</td>\n",
       "      <td>22.20</td>\n",
       "    </tr>\n",
       "    <tr>\n",
       "      <th>1</th>\n",
       "      <td>19.0</td>\n",
       "      <td>0.000000</td>\n",
       "      <td>32.35</td>\n",
       "    </tr>\n",
       "    <tr>\n",
       "      <th>2</th>\n",
       "      <td>28.0</td>\n",
       "      <td>0.000000</td>\n",
       "      <td>54.06</td>\n",
       "    </tr>\n",
       "    <tr>\n",
       "      <th>3</th>\n",
       "      <td>30.6</td>\n",
       "      <td>0.000000</td>\n",
       "      <td>55.63</td>\n",
       "    </tr>\n",
       "    <tr>\n",
       "      <th>4</th>\n",
       "      <td>17.5</td>\n",
       "      <td>0.240000</td>\n",
       "      <td>38.33</td>\n",
       "    </tr>\n",
       "    <tr>\n",
       "      <th>5</th>\n",
       "      <td>28.0</td>\n",
       "      <td>0.000000</td>\n",
       "      <td>53.62</td>\n",
       "    </tr>\n",
       "    <tr>\n",
       "      <th>6</th>\n",
       "      <td>8.0</td>\n",
       "      <td>0.000000</td>\n",
       "      <td>8.78</td>\n",
       "    </tr>\n",
       "    <tr>\n",
       "      <th>7</th>\n",
       "      <td>30.0</td>\n",
       "      <td>41.400001</td>\n",
       "      <td>35.23</td>\n",
       "    </tr>\n",
       "    <tr>\n",
       "      <th>8</th>\n",
       "      <td>29.0</td>\n",
       "      <td>1.090000</td>\n",
       "      <td>74.23</td>\n",
       "    </tr>\n",
       "    <tr>\n",
       "      <th>9</th>\n",
       "      <td>0.0</td>\n",
       "      <td>0.000000</td>\n",
       "      <td>1.47</td>\n",
       "    </tr>\n",
       "    <tr>\n",
       "      <th>10</th>\n",
       "      <td>0.0</td>\n",
       "      <td>0.000000</td>\n",
       "      <td>1.49</td>\n",
       "    </tr>\n",
       "  </tbody>\n",
       "</table>\n",
       "</div>"
      ],
      "text/plain": [
       "    Tổng lưu lượng xả (m³/s)[Thực tế] - t  SoLieuMua  \\\n",
       "0                                    11.0   1.000000   \n",
       "1                                    19.0   0.000000   \n",
       "2                                    28.0   0.000000   \n",
       "3                                    30.6   0.000000   \n",
       "4                                    17.5   0.240000   \n",
       "5                                    28.0   0.000000   \n",
       "6                                     8.0   0.000000   \n",
       "7                                    30.0  41.400001   \n",
       "8                                    29.0   1.090000   \n",
       "9                                     0.0   0.000000   \n",
       "10                                    0.0   0.000000   \n",
       "\n",
       "    Lưu lượng đến hồ (m³/s) - t  \n",
       "0                         22.20  \n",
       "1                         32.35  \n",
       "2                         54.06  \n",
       "3                         55.63  \n",
       "4                         38.33  \n",
       "5                         53.62  \n",
       "6                          8.78  \n",
       "7                         35.23  \n",
       "8                         74.23  \n",
       "9                          1.47  \n",
       "10                         1.49  "
      ]
     },
     "execution_count": 1,
     "metadata": {},
     "output_type": "execute_result"
    }
   ],
   "source": [
    "import pandas as pd\n",
    "df = pd.read_csv('demo.csv')\n",
    "df"
   ]
  },
  {
   "cell_type": "code",
   "execution_count": 2,
   "metadata": {},
   "outputs": [
    {
     "data": {
      "text/plain": [
       "0     11.0\n",
       "1     19.0\n",
       "2     28.0\n",
       "3     30.6\n",
       "4     17.5\n",
       "5     28.0\n",
       "6      8.0\n",
       "7     30.0\n",
       "8     29.0\n",
       "9      0.0\n",
       "10     0.0\n",
       "Name: Tổng lưu lượng xả (m³/s)[Thực tế] - t, dtype: float64"
      ]
     },
     "execution_count": 2,
     "metadata": {},
     "output_type": "execute_result"
    }
   ],
   "source": [
    "df['Tổng lưu lượng xả (m³/s)[Thực tế] - t']"
   ]
  },
  {
   "cell_type": "code",
   "execution_count": 5,
   "metadata": {},
   "outputs": [
    {
     "data": {
      "text/plain": [
       "array([11. , 19. , 28. , 30.6, 17.5, 28. ,  8. , 30. , 29. ,  0. ,  0. ])"
      ]
     },
     "execution_count": 5,
     "metadata": {},
     "output_type": "execute_result"
    }
   ],
   "source": [
    "array_tongxa = df['Tổng lưu lượng xả (m³/s)[Thực tế] - t'].values\n",
    "array_tongxa"
   ]
  },
  {
   "cell_type": "code",
   "execution_count": 7,
   "metadata": {},
   "outputs": [
    {
     "data": {
      "text/plain": [
       "array([ 1.      ,  0.      ,  0.      ,  0.      ,  0.24    ,  0.      ,\n",
       "        0.      , 41.400001,  1.09    ,  0.      ,  0.      ])"
      ]
     },
     "execution_count": 7,
     "metadata": {},
     "output_type": "execute_result"
    }
   ],
   "source": [
    "array_somua= df['SoLieuMua'].values\n",
    "array_somua"
   ]
  },
  {
   "cell_type": "code",
   "execution_count": 8,
   "metadata": {},
   "outputs": [
    {
     "data": {
      "text/plain": [
       "array([22.2 , 32.35, 54.06, 55.63, 38.33, 53.62,  8.78, 35.23, 74.23,\n",
       "        1.47,  1.49])"
      ]
     },
     "execution_count": 8,
     "metadata": {},
     "output_type": "execute_result"
    }
   ],
   "source": [
    "array_luuluongden= df['Lưu lượng đến hồ (m³/s) - t'].values\n",
    "array_luuluongden"
   ]
  }
 ],
 "metadata": {
  "kernelspec": {
   "display_name": "Python 3",
   "language": "python",
   "name": "python3"
  },
  "language_info": {
   "codemirror_mode": {
    "name": "ipython",
    "version": 3
   },
   "file_extension": ".py",
   "mimetype": "text/x-python",
   "name": "python",
   "nbconvert_exporter": "python",
   "pygments_lexer": "ipython3",
   "version": "3.9.6"
  }
 },
 "nbformat": 4,
 "nbformat_minor": 2
}
